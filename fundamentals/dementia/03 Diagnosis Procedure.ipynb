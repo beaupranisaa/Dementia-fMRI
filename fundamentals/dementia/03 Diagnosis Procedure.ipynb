{
 "cells": [
  {
   "cell_type": "markdown",
   "id": "d8f95265-e473-4b10-a2ee-b67e0686041f",
   "metadata": {},
   "source": [
    "# 03 Diagnosis Procedure"
   ]
  },
  {
   "cell_type": "code",
   "execution_count": null,
   "id": "2816d10a-b117-4c98-8b64-266b03a5abe2",
   "metadata": {},
   "outputs": [],
   "source": []
  }
 ],
 "metadata": {
  "kernelspec": {
   "display_name": "Python 3 (ipykernel)",
   "language": "python",
   "name": "python3"
  },
  "language_info": {
   "codemirror_mode": {
    "name": "ipython",
    "version": 3
   },
   "file_extension": ".py",
   "mimetype": "text/x-python",
   "name": "python",
   "nbconvert_exporter": "python",
   "pygments_lexer": "ipython3",
   "version": "3.8.10"
  }
 },
 "nbformat": 4,
 "nbformat_minor": 5
}
