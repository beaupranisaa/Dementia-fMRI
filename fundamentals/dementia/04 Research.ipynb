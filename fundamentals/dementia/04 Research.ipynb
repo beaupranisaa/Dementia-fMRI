{
 "cells": [
  {
   "cell_type": "markdown",
   "id": "268e83cc-8c78-4db7-8c9b-ace0985b3acc",
   "metadata": {},
   "source": [
    "# 04 Procedure"
   ]
  },
  {
   "cell_type": "code",
   "execution_count": null,
   "id": "f791779b-075e-497e-b2f7-352d65de96f3",
   "metadata": {},
   "outputs": [],
   "source": []
  }
 ],
 "metadata": {
  "kernelspec": {
   "display_name": "Python 3 (ipykernel)",
   "language": "python",
   "name": "python3"
  },
  "language_info": {
   "codemirror_mode": {
    "name": "ipython",
    "version": 3
   },
   "file_extension": ".py",
   "mimetype": "text/x-python",
   "name": "python",
   "nbconvert_exporter": "python",
   "pygments_lexer": "ipython3",
   "version": "3.8.10"
  }
 },
 "nbformat": 4,
 "nbformat_minor": 5
}
