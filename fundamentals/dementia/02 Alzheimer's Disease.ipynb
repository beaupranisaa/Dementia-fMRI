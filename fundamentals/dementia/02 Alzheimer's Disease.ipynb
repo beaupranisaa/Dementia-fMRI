{
 "cells": [
  {
   "cell_type": "markdown",
   "id": "0e9164ca-d8cc-4fb0-94c1-6b297243621c",
   "metadata": {},
   "source": [
    "# 02 Alzheimer's Disease"
   ]
  },
  {
   "cell_type": "markdown",
   "id": "0b47d59b-59ea-4d53-8501-5797862a5900",
   "metadata": {},
   "source": [
    "## 1. What is happening in the brain?"
   ]
  },
  {
   "cell_type": "markdown",
   "id": "8e19352d-3fba-4356-8c9e-630edf853865",
   "metadata": {},
   "source": [
    "### Alzheimer's Disease (AD)\n",
    "\n",
    "The healthy human brain contains tens of billions neurons which process and transmit information via electrical and chemical signals. They send messages between different parts of the brain and from the brain to the muscles and organs of the body. AD **disrupts this communication among neurons, resulting in loss of function and cell death.** "
   ]
  },
  {
   "cell_type": "markdown",
   "id": "ffde6468-10c5-45c9-9552-81317cac8a12",
   "metadata": {},
   "source": [
    "### Key biological processes in the brain\n",
    "\n",
    "Most neurons have 3 basic parts.\n",
    "\n",
    "1) **Cell body:** cell body contains the nucleus, which houses genetic blueprint that directs and regulates the cell's activities\n",
    "\n",
    "2) **Dendrites:** branch-like structures that extend from the cell body and collect information from other neurons\n",
    "\n",
    "3) **Axon:** a cable-like structure at the end of the cell body opposite the dendrites and transmits messages to other neurons\n",
    "\n",
    "\n",
    "<center><img src=\"../figures/02_cellbody-dendrite-axon.png\" style=\"width:400px;\"/>\n"
   ]
  },
  {
   "cell_type": "markdown",
   "id": "bddb75b2-f905-447e-a20e-d9252d046873",
   "metadata": {},
   "source": [
    "The function and survival of neurons depend on several key biological processes:\n",
    "\n",
    "1) **Communication:** Neurons are constantly in touch with neighboring brain cells. When a neuron receives signals from other neurons, it generates an electrical charge that travels down the length of its axon and releases neurotransmitter chemicals across a tiny gap, called a synapse. Like a key fitting into a lock, each neurotransmitter molecule then binds to specific receptor site on a dendrite of a nearby neuron. This process triggers chemical or electrical signals that either stimulate or inhibit activity in the neuron receiving the signal. Communication often occurs across networks of brain cells."
   ]
  },
  {
   "cell_type": "markdown",
   "id": "b0efd0ad-be21-4477-af7a-8c08cca10f62",
   "metadata": {},
   "source": [
    "<center><img src=\"../figures/02_transmitter.png\" style=\"width:250px;\"/>\n"
   ]
  },
  {
   "cell_type": "markdown",
   "id": "856c804f-b8d3-4fc7-8ba0-86d296f6f5bb",
   "metadata": {},
   "source": [
    "2) **Metabolism:** The breaking down of chemicals and nutrients within a cell. To perform this function, cells require energy in the form of **oxygen and glucose**, which are supplied by blood circulating through the brain. \n",
    "\n",
    "3) **Repair, remodeling, and regeneration:** Unlike many cells in the body which are relatively short-lived, neurons have evolved to live a long time -more than 100 years in humans. As a result, neurons must constantly **maintain and repair** themselves. Neurons also continuously adjust or remodel, their synaptic connections depending on how much stimulation they receive from other neurons. For example, they may strengthen or weaken synaptic connections, or even break down connections with one group of neurons and build new connections with a different group, Adult brains may even generate new neurons -a process called neurogenesis. Remodeling of synaptic connections and neurogenesis are important for learning, memory and possibly brain repair."
   ]
  },
  {
   "cell_type": "markdown",
   "id": "566b7b67-a560-45d6-8daa-e1dd921db6cd",
   "metadata": {},
   "source": [
    "## 2. How does Alzheimer's disease affect the brain?\n",
    "\n",
    "Typically, the brain shrinks to some degree in healthy aging, but surprisingly does not lose neurons in large numbers. In AD, however, the damage is widespread, as many neurons stop functioning, lose connections with other neurons and die. Hence, AD disrupts processes vital to neuron and their networks, including communication metabolism and repair. \n",
    "\n",
    "At first, AD typically destroys neurons and their connections in parts of the brain involved in memory, including the **entorhinal cortex and hippocampus.** It later affects areas in the **cerebral cortex** responsible for language, reasoning and social behavior. Eventually, many other areas of the brain are damanged. Over time, a person with AD gradually loses his ability to live and function independently.   \n",
    "\n",
    "<center><img src=\"../figures/02_AD-brain.png\" style=\"width:300px;\"/>"
   ]
  },
  {
   "cell_type": "markdown",
   "id": "bd7398e4-bc9e-4f5c-920a-5c6149333d3a",
   "metadata": {},
   "source": [
    "## 3. Characteristic \n",
    "\n",
    "Many molecular and cellular changes take place in the brian of a person with AD. These changes can be observed in brain tissue under the microscope after death. Investigations are underway to determine which changes may cause AD and which may be the result of the disease.\n",
    "\n",
    "1. **Amyloid plaques:**  The beta-amyloid protein involved in AD comes in several different molecular forms that collect between neurons. It is formed from the breakdown of a larger protein, called amyloid precursor protein. One form, beta-amyloid 42 is thought to be especially toxic. In AD brain, adnormal levels of this naturally occurring **protein clump together to form plaques that collect between neuron and disrupt cell function**. Research is ongoing to better understand how, and at what stage of the disease, the various forms of beta-amyloid influence AD.\n",
    "\n",
    "2. **Neurofibrillary tangles:** Neurofibrillary tangles are abnormal accumulations of a protein called **tau** that collect inside neurons. Healthy neurons, in part, are supported internally by structures called **microtubules**, which help guide nutrients and molecules from the cell body to the axon and dendrites. In healthy neuron, tau normally binds to and stabilizes microtubules. In AD, abnormal chemical changes cause tau to detach from microtubules and stick to other tau molecules, forming threads that eventually join to form tangles inside neurons. These tangles **block the neuron's transport system**, which harms the **synaptic commiunication** between neurons.\n",
    "\n",
    "Note: It appears that abnormal tau accumulates in specific brain regions involved in memory. Beta-amyloid clumps into plaques between neurons. As the level of beta-amyloid reaches a tipping point, there is a rapid spread of tau throughout the brain."
   ]
  },
  {
   "cell_type": "markdown",
   "id": "90b289c9-4d3a-4255-9c58-4590952970e9",
   "metadata": {},
   "source": [
    "<center><img src=\"../figures/02_biomarkers.png\" style=\"width:600px;\"/>"
   ]
  },
  {
   "cell_type": "markdown",
   "id": "62913da8-5899-4245-927f-900587e414bd",
   "metadata": {},
   "source": [
    "3. **Chronic inflammation:** \n",
    "\n",
    "Chronic inflammation may be caused by the buildup of glial cells normally meant to help keep the brain free of debris. One type of glial cell, microglia, engulfs and destroys waste and toxins in a healthy brain. In Alzheimer’s, **microglia fail to clear away waste, debris, and protein collections, including beta-amyloid plaques**. Researchers are trying to find out why microglia fail to perform this vital function in Alzheimer’s.\n",
    "\n",
    "4. **Vascular controbutions to AD:**\n",
    "\n",
    "People with dementia seldom have only Alzheimer’s-related changes in their brains. Any number of vascular issues—problems that affect blood vessels, such as beta-amyloid deposits in brain arteries, atherosclerosis (hardening of the arteries), and mini-strokes—may also be at play. \n",
    "\n",
    "Vascular problems may lead to **reduced blood flow and oxygen** to the brain, as well as a **breakdown of the blood-brain barrier**, which usually protects the brain from harmful agents while allowing in glucose and other necessary factors. In a person with Alzheimer’s, a faulty blood-brain barrier **prevents glucose from reaching the brain and prevents the clearing away of toxic beta-amyloid and tau proteins**. This results in inflammation, which adds to vascular problems in the brain. Because it appears that Alzheimer’s is both a cause and consequence of vascular problems in the brain, researchers are seeking interventions to disrupt this complicated and destructive cycle.\n",
    "\n",
    "5. **Loss of neuronal connections and cell death:**\n",
    "\n",
    "In Alzheimer’s disease, as **neurons are injured and die** throughout the brain, connections between networks of neurons may break down, and many brain regions begin to shrink. By the final stages of Alzheimer’s, this process—called brain atrophy—is widespread, causing significant loss of brain volume.\n"
   ]
  },
  {
   "cell_type": "markdown",
   "id": "a37d0f51-aeef-4939-b62a-7d464d8de049",
   "metadata": {},
   "source": [
    "Reference:\n",
    "https://www.nia.nih.gov/health/what-happens-brain-alzheimers-disease\n",
    "\n",
    "https://www.researchgate.net/figure/Major-pathological-hallmarks-of-AD-are-amyloid-plaques-and-neurofibrillary-tangles-B_fig3_337715716\n"
   ]
  },
  {
   "cell_type": "code",
   "execution_count": null,
   "id": "588c3e7c-aab1-45eb-bbae-26424108d232",
   "metadata": {},
   "outputs": [],
   "source": []
  }
 ],
 "metadata": {
  "kernelspec": {
   "display_name": "Python 3 (ipykernel)",
   "language": "python",
   "name": "python3"
  },
  "language_info": {
   "codemirror_mode": {
    "name": "ipython",
    "version": 3
   },
   "file_extension": ".py",
   "mimetype": "text/x-python",
   "name": "python",
   "nbconvert_exporter": "python",
   "pygments_lexer": "ipython3",
   "version": "3.8.10"
  }
 },
 "nbformat": 4,
 "nbformat_minor": 5
}
