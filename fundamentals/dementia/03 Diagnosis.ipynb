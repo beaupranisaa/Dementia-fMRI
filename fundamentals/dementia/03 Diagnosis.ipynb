{
 "cells": [
  {
   "cell_type": "markdown",
   "id": "d8f95265-e473-4b10-a2ee-b67e0686041f",
   "metadata": {},
   "source": [
    "# 03 Diagnosis "
   ]
  },
  {
   "cell_type": "markdown",
   "id": "3c4285ed-11f9-44af-b261-cfd2c9cc15da",
   "metadata": {},
   "source": [
    "## 1. How is dementia diagnosed?"
   ]
  },
  {
   "cell_type": "markdown",
   "id": "378a6777-3f60-4a26-98c5-f04e37d94ef6",
   "metadata": {},
   "source": [
    "To diagnose dementia, doctors first assess whether a person has an underlying poentially treatable condition that may relate to cogniive difficulties. A **physical exam** to measure blood pressure and other vital signs as well as laboratory tests of blood and other fluids to check levels of various chemicals hormones, and vitamins, can help uncover or rule out possible causes of symptoms\n",
    "\n",
    "A review of a **person’s medical and family history** can provide important clues about risk for dementia. Typical questions might include asking about whether dementia runs in the family, how and when symptoms began, changes in behavior and personality, and if the person is taking certain medications that might cause or worsen symptoms"
   ]
  },
  {
   "cell_type": "markdown",
   "id": "faaf69cc-7713-47a6-86b1-b1bf7f44832a",
   "metadata": {},
   "source": [
    "The following procedures also may be used to diagnose dementia:\n",
    "\n",
    "**Cognitive and neurological tests:** These tests are used to assess thinking and physical functioning. These include assessments of memory, problem solving, language skills, and math skills, as well as balance, sensory response, and reflexes.\n",
    "\n",
    "\n",
    "**Brain scans:** These tests can identify strokes, tumors, and other problems that can cause dementia. Scans also identify changes in the brain's structure and function. The most common scans are:\n",
    "1. Computed tomography (CT), which uses X-rays to produce images of the brain and other organs\n",
    "\n",
    "2. Magnetic resonance imaging (MRI), which uses magnetic fields and radio waves to produce detailed images of body structures, including tissues, organs, bones, and nerves\n",
    "\n",
    "3. Positron emission tomography (PET), which uses radiation to provide pictures of brain activity\n",
    "\n",
    "4. Functional magnetic resonance image (fMRI)\n",
    "\n",
    "**Psychiatric evaluation:** This evaluation will help determine if depression or another mental health condition is causing or contributing to a person's symptoms.\n",
    "\n",
    "**Genetic tests:** Some dementias are caused by a person’s genes. In these cases, a genetic test can help people know if they are at risk for dementia. It is important to talk with a genetic counselor before and after getting tested, along with family members and the doctor.\n",
    "\n",
    "**Blood tests:** It is now possible for doctors to order a blood test to measure levels of beta-amyloid, a protein that accumulates abnormally in people with Alzheimer’s. Several other blood tests are in development. However, the availability of these diagnostic tests for Alzheimer’s and related dementias is still limited."
   ]
  },
  {
   "cell_type": "markdown",
   "id": "6eac24fd-7009-4038-bc69-ba9ad976a95b",
   "metadata": {},
   "source": [
    "## 2. Biomarkers\n",
    "\n",
    "Biomarkers are measurable indicators of what’s happening in the body. These can be found in blood, other body fluids, organs, and tissues. Some can even be measured digitally. Biomarkers can help doctors and researchers track healthy processes, diagnose diseases and other health conditions, monitor responses to medication, and identify health risks in a person. For example, an increased level of cholesterol in the blood is a biomarker for heart attack risk.\n",
    "\n",
    "### Types of biomarkers and tests\n",
    "\n",
    "Brain imaging includes e.g. CT, MRI and PET scans\n",
    "\n",
    "1. **Computerized tomography (CT):**\n",
    "A CT scan is a type of X-ray that uses **radiation** to produce images of the brain or other parts of the body. A head CT can show **shrinkage of brain regions** that may occur in dementia, as well as signs of other possible sources of disease, such as an infection or blood clot. To help determine if a person has dementia, a doctor might **compare the size of certain brain regions** to previous scans or to what would be expected for **a person of the same age and size**. Sometimes a CT scan is used when a person isn’t eligible for an MRI due to metal in their body, such as a pacemaker.\n",
    "\n",
    "CT scans can show:\n",
    "\n",
    "* stroke related damage.\n",
    "* brain shrinkage (atrophy) and blood vessel changes seen in dementia.\n",
    "* signs of a brain tumour.\n",
    "* build-up of fluid or blood in the brain.\n",
    "\n",
    "Procedure:\n",
    "\n",
    "A CT scan involves lying in a scanner for 10-20 minutes. You may be asked to breathe in our out, or hold your breath for a short time during the scan.\n",
    "\n",
    "<img src=\"../figures/02_ct.png\" width=\"425\"/> <img src=\"../figures/02_ct2.png\" width=\"425\"/> "
   ]
  },
  {
   "cell_type": "markdown",
   "id": "adc0bc25-83dc-4793-8b20-28b0fa4e5b0b",
   "metadata": {},
   "source": [
    "2. **Magnetic resonance imaging (MRI):**\n",
    "MRI uses magnetic fields and **radio waves** to produce detailed images of body **structures**, including the size and shape of the brain and brain regions. Because MRI uses strong magnetic fields to obtain images, people with certain types of metal in their bodies, such as a pacemaker, surgical clips, or shrapnel, cannot undergo the procedure. Similar to CT scans, MRIs can show whether areas of the brain have atrophied (shrunk). **Repeat scans can show how a person's brain changes over time.** Evidence of shrinkage may support a diagnosis of Alzheimer's or another neurodegenerative dementia but cannot indicate a specific diagnosis. MRI also provides a detailed picture of **brain blood vessels.** Before making a dementia diagnosis, doctors often view MRI results to rule out other causes of memory changes such as bleeding or a build-up of fluid in the brain.\n",
    "\n",
    "*A brain MRI can help doctors look for:*\n",
    "\n",
    "* brain shrinking (atrophy).\n",
    "* damage following a stroke.\n",
    "* problems with blood vessels.\n",
    "* inflammation.\n",
    "* tumours.\n",
    "* damage following an injury.\n",
    "\n",
    "*Procedure:*\n",
    "\n",
    "An MRI involves lying still for 15-90 minutes. Because MRI scans use magnets, people with metal in their bodies or a pacemaker cannot have this type of scan and you’ll be asked to remove metal you are wearing, such as belts or jewellery."
   ]
  },
  {
   "cell_type": "markdown",
   "id": "468ecdff-3ac9-4718-b114-d5b9d23a6752",
   "metadata": {},
   "source": [
    "<img src=\"../figures/02_mri.png\" width=\"425\"/> <img src=\"../figures/02_mri2.png\" width=\"425\"/> "
   ]
  },
  {
   "cell_type": "markdown",
   "id": "b06861e4-e590-46d0-9ac1-f2483bc356d0",
   "metadata": {},
   "source": [
    "\n",
    "3. **Positron emission tomography (PET):**\n",
    "PET uses small amounts of a radioactive substance, called a tracer, to measure **specific activity** — such as energy use — or a specific molecule in different brain regions. PET scans take pictures of the brain, **revealing regions of normal and abnormal chemical activity.** There are several types of PET scans that can help doctors diagnose dementia.\n",
    "\n",
    "* **Amyloid PET** scans measure abnormal deposits of a protein called beta-amyloid. Higher levels of beta-amyloid are consistent with the presence of amyloid plaques, a hallmark of Alzheimer's disease. Medical specialists may use amyloid PET imaging to help diagnose Alzheimer’s. A positive amyloid scan may mean symptoms are due to Alzheimer’s or a person is experiencing the early stages of Alzheimer’s. But it’s possible for people to have amyloid plaques and never develop the symptoms of Alzheimer’s, so doctors will consider these findings along with the results of other tests. An amyloid scan that shows just a few or no amyloid plaques usually means that Alzheimer’s is not the cause of the symptoms. These types of scans are often used in research settings to identify those at risk of developing Alzheimer’s disease and to test potential treatments.\n",
    "\n",
    "* **Tau PET** scans detect the abnormal accumulation of the tau protein. Tau forms tangles within nerve cells in Alzheimer's disease and many other dementias. Tau PET scans may be used by doctors to monitor progression of Alzheimer's, but they are not commonly used in standard medical practice. These scans are more often used in research settings to help identify people who are at risk of developing Alzheimer’s and test potential treatments.\n",
    "\n",
    "* **Fluorodeoxyglucose (FDG)** PET scans measure energy use in the brain. Glucose, a type of sugar, is the primary source of energy for cells. Studies show that people with dementia often have abnormal patterns of decreased glucose use in specific areas of the brain. In clinical care, FDG PET scans may be used if a doctor strongly suspects frontotemporal dementia as opposed to Alzheimer's.\n",
    "\n",
    "    \n",
    "*PET scans are used to show:*\n",
    "\n",
    "* abnormal build-up of proteins that cause diseases like Alzheimer’s.\n",
    "* how much glucose is present in the brain, to look at brain activity.\n",
    "\n",
    "*Procedures:*\n",
    "\n",
    "The dye is injected or swallowed at least an hour before the scan to let it reach the target, then you will lie in the scanner for 30-60 minutes. You should not wear anything with metal such as a watch or jewellery during the scan.\n",
    "\n",
    "\n",
    "<img src=\"../figures/02_pet.png\" width=\"425\"/> <img src=\"../figures/02_pet2.png\" width=\"425\"/> \n",
    "\n",
    "<center><img src=\"../figures/02_pet3.png\" width=\"425\"/>"
   ]
  },
  {
   "cell_type": "markdown",
   "id": "5521ce18-a86b-4931-9d79-b5633056812b",
   "metadata": {},
   "source": [
    "4. **Functional magnetic resonance imaging (fMRI):**\n",
    "\n",
    "fMRI is used to look at **activity in the brain, like blood flow** and is more commonly used in research rather than dementia diagnosis, to compare brain activity in people with dementia against people without dementia. Usually, the person is given a task to complete during the scan, like a thinking test. Researchers observe increases and decreases in brain activity during the task and compare results between the two groups. This gives us clues about how dementia affects our brain’s ability to do things like solve puzzles.\n",
    "\n",
    "*Procedures:*\n",
    "\n",
    "An fMRI usually takes longer than an MRI. They can involve lying still for around an hour."
   ]
  },
  {
   "cell_type": "markdown",
   "id": "8c346468-8980-4fec-9c53-b68e4755871e",
   "metadata": {},
   "source": [
    "<img src=\"../figures/02_fmri.png\" width=\"425\"/><img src=\"../figures/02_fmri2.png\" width=\"425\"/>"
   ]
  },
  {
   "cell_type": "markdown",
   "id": "e6e90571-8361-4aa1-9c09-8cde0ee317cd",
   "metadata": {},
   "source": [
    "5. **Electroencephalography (EEG)**\n",
    "\n",
    "An EEG is a recording of overall brain activity. It involves attaching small sensors called electrodes to the top of the head (scalp) to measure electrical signals in the brain. They are usually used to diagnose conditions like epilepsy which causes abnormal electrical patterns in the brain.\n",
    "\n",
    "EEG is sometimes used to diagnose different types of dementia. This is because the pattern of electrical activity in a brain with dementia is different to a healthy brain. Using this scan to look for brain activity patterns typical of dementia can improve the accuracy of diagnosis compared to using traditional memory and thinking tests. As seizures can be a symptom in some types of dementia, EEGs can also investigate this.\n",
    "\n",
    "*Procedures:*\n",
    "\n",
    "EEGs require you to either sit or lie down during the scan, which should take around 20-40 minutes."
   ]
  },
  {
   "cell_type": "markdown",
   "id": "03390d35-4f9c-4e10-9dda-dda275e4d902",
   "metadata": {},
   "source": [
    "5. **Cerebrospinal fluid biomarkers (CSF)**\n",
    "\n",
    "CSF is a **clear fluid that surrounds the brain and spinal cord**, providing protection and insulation. CSF also supplies numerous nutrients and chemicals that help keep brain cells healthy. Proteins and other substances made by brain cells can be detected in CSF. Measuring changes in the levels of these substances can help diagnose neurological problems.\n",
    "\n",
    "Doctors perform a lumbar puncture, also called a spinal tap, to get CSF. The most widely used CSF biomarkers for Alzheimer's disease measure **beta-amyloid 42 (the major component of amyloid plaques in the brain), tau, and phospho-tau (major components of tau tangles in the brain**, which are another hallmark of Alzheimer’s).\n"
   ]
  },
  {
   "cell_type": "markdown",
   "id": "63e1e295-e11a-49b7-8171-8f6d95b889f2",
   "metadata": {},
   "source": [
    "6. **Blood tests**\n",
    "\n",
    "Proteins that originate in the brain may be measured with sensitive blood tests. **Levels of these proteins** may change because of Alzheimer's, a stroke, or other brain disorders. These blood biomarkers have historically been less accurate than CSF biomarkers for identifying Alzheimer's and related dementias. However, thanks to more research advances, improved methods to measure these brain-derived proteins are now available. For example, it is now possible for scientists and some doctors, dependent on state-specific availability reflecting U.S. Food and Drug Administration guidelines, to order a blood test to measure levels of **beta-amyloid.** Several other similar tests are in development. Still, the availability of these diagnostic tests is limited: They are more common in research settings where scientists use blood biomarkers to study early detection, prevention, and the effects of potential treatments."
   ]
  },
  {
   "cell_type": "markdown",
   "id": "86186e15-7f64-42f4-9fc7-a837810ec7a3",
   "metadata": {},
   "source": [
    "7. **Genetic testing**\n",
    "\n",
    "Genes are structures in a body's cells that are passed down from a person's birth parents. They carry information that determines a person's traits and keep the body's cells healthy. Mutations in genes can lead to diseases such as Alzheimer's. A genetic test is a type of medical test that analyzes DNA from blood or saliva to determine a person's genetic makeup. A number of genetic combinations may change the risk of developing a disease that causes dementia.\n",
    "\n",
    "Genetic tests are not routinely used in clinical settings to diagnose or predict the risk of developing Alzheimer's or a related dementia. However, a neurologist or other medical specialist may order a genetic test in certain situations, such as when a **person has an early age of onset with a strong family history of Alzheimer's or frontotemporal dementia.** A genetic test is typically accompanied by genetic counseling for the person before the test and when results are received. Genetic counseling includes a discussion of the risks, benefits, and limitations of test results. "
   ]
  },
  {
   "cell_type": "markdown",
   "id": "9d52b361-d6dd-4a77-9074-6fa81280310c",
   "metadata": {},
   "source": [
    "## 3. ATN Framework"
   ]
  },
  {
   "cell_type": "markdown",
   "id": "1e13d951-0297-4c91-a6ac-869f288be163",
   "metadata": {},
   "source": [
    "[![Biomarkers](https://img.youtube.com/vi/n5m_qOy14VQ&t=16s/0.jpg)](https://www.youtube.com/watch?v=n5m_qOy14VQ&t=16s)"
   ]
  },
  {
   "cell_type": "markdown",
   "id": "0bcbc021-5ea6-4563-85b3-36df8fcb888f",
   "metadata": {},
   "source": [
    "Reference:\n",
    "    \n",
    "https://www.nia.nih.gov/health/what-is-dementia\n",
    "\n",
    "https://www.nia.nih.gov/health/how-biomarkers-help-diagnose-dementia\n",
    "\n",
    "https://www.sciencephoto.com/media/186570/view\n",
    "\n",
    "https://www.alzheimersresearchuk.org/blog/all-you-need-to-know-about-brain-scans-and-dementia/\n",
    "\n",
    "https://psychcentral.com/lib/what-is-functional-magnetic-resonance-imaging-fmri#how-it-works\n",
    "\n"
   ]
  }
 ],
 "metadata": {
  "kernelspec": {
   "display_name": "Python 3 (ipykernel)",
   "language": "python",
   "name": "python3"
  },
  "language_info": {
   "codemirror_mode": {
    "name": "ipython",
    "version": 3
   },
   "file_extension": ".py",
   "mimetype": "text/x-python",
   "name": "python",
   "nbconvert_exporter": "python",
   "pygments_lexer": "ipython3",
   "version": "3.8.10"
  }
 },
 "nbformat": 4,
 "nbformat_minor": 5
}
