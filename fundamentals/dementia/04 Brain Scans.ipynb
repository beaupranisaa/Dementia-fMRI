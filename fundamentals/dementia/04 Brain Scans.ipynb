{
 "cells": [
  {
   "cell_type": "markdown",
   "id": "f6aa5de0-399b-4000-99b3-7cae3992caf9",
   "metadata": {},
   "source": [
    "# 04 Brain Scans"
   ]
  },
  {
   "cell_type": "code",
   "execution_count": null,
   "id": "58a53d9e-e161-48a8-907f-b884e57e254a",
   "metadata": {},
   "outputs": [],
   "source": []
  }
 ],
 "metadata": {
  "kernelspec": {
   "display_name": "Python 3 (ipykernel)",
   "language": "python",
   "name": "python3"
  },
  "language_info": {
   "codemirror_mode": {
    "name": "ipython",
    "version": 3
   },
   "file_extension": ".py",
   "mimetype": "text/x-python",
   "name": "python",
   "nbconvert_exporter": "python",
   "pygments_lexer": "ipython3",
   "version": "3.8.10"
  }
 },
 "nbformat": 4,
 "nbformat_minor": 5
}
