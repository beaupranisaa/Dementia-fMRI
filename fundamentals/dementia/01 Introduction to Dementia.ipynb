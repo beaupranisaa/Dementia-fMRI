{
 "cells": [
  {
   "cell_type": "markdown",
   "id": "6ad6c3f4-6b54-4dc7-8a7f-46bed6b2ef12",
   "metadata": {},
   "source": [
    "# Introduction to Dementia"
   ]
  },
  {
   "cell_type": "markdown",
   "id": "2b57d516-b85c-40f0-addb-bf4c7be166fd",
   "metadata": {},
   "source": [
    "Dementia is not a specific disease, but is rather a general term for the **impared ability** to remember, think, or make decsions that interferes with doing everyday activities. Dementia is not a general part of aging, but a group of disorders caused by abnormal brain changes. \n",
    "\n",
    "Note: Alzheimer's disease is the most common type."
   ]
  },
  {
   "cell_type": "markdown",
   "id": "2c306f5b-922c-4884-a662-fe2645bb6c84",
   "metadata": {},
   "source": [
    "## 1. Causes\n",
    "\n",
    "Diseases that damange brain cells cause dementia. This damange interferes with the **cell's abilities to communicate effectively.** Different regions of the brain are responsible for different functions. When brain cells in a particular region become damanged, that section of the brain can't carry out its usual functions."
   ]
  },
  {
   "cell_type": "markdown",
   "id": "2e93d4fe-2a04-41b2-b13b-8504e4f3952e",
   "metadata": {},
   "source": [
    "## 2. Symptoms and signs of dementia\n",
    "\n",
    "#### Symptoms\n",
    "Common symptoms can very widely from person to person, but often include problems such as memory, attention, communicationm reasoning, judgement and problem solving and visual perception beyond typical age-related changes in vision.\n",
    "\n",
    "#### Signs\n",
    "Signs of dementia include getting lost in a familiar neighborhood, using unusual words to refer to familiar objects, forgetting the name of a close family member or friends, forgetting old memories, not being able to complete tasks independently"
   ]
  },
  {
   "cell_type": "markdown",
   "id": "543224dc-d187-4f9d-afb9-54931ec44019",
   "metadata": {},
   "source": [
    "## 3. Risks for dementia\n",
    "**Age:** Most cases affecting those of 65 years and older\n",
    "\n",
    "**Family history:** Those who have parents or siblings with dementia are more likely to develop dementia themselves\n",
    "\n",
    "**Race/ethnicity:** Older african americans are twice more likely to have dementia than whites. Hispanics 1.5 times more likely to have dementia than whites\n",
    "\n",
    "**Poor heart health:** High blood pressure, high cholesterol and smoking increase the risk of dementia if not treated properly.\n",
    "\n",
    "**Traumatic brain injury:** Head injuries can increase the risk of dementia, espectially if they are severe or occur repeatedly\n",
    "\n"
   ]
  },
  {
   "cell_type": "markdown",
   "id": "07ee50fe-d703-4b17-b582-96e728a09526",
   "metadata": {},
   "source": [
    "## 4. Diagnosis\n",
    "\n",
    "1) Tests on attention, memory, problem solving and other cognitive abilities to see if there are cause for concern. E.g. spell simple words backword, Add and subtract basic equations, repeat words, then remember them later in the appointment, name objects properly, understand isual and spatial cues like the distance and location of objects, draw a clock with evenly spaced number\n",
    "\n",
    "2) Physical exams, blood tests and brain scans like CT or MRI\n"
   ]
  },
  {
   "cell_type": "markdown",
   "id": "e445c7df-bb85-440e-81c4-053e07c93988",
   "metadata": {},
   "source": [
    "## 5. What are the common types of dementia?\n",
    "\n",
    "**Alzheimer's disease:** Account for 60-80% of cases caused by specific changes in the brain. First-degree relative with AD increases the risk of developing it by 10-30%\n",
    "\n",
    "**Vascular dementia:** 10% of cases are linked to **strokes or other issues with blood flow** to the brain. **Diabetes, high blood pressure and highs cholesterol** are also risk factors. Symptoms vary depending on the area and size of the brain impacted. Disease progresses in a step-wise fashion, meaning symptoms will suddenly get worse as the indivisual gets more strokes or mini-strokes\n",
    "\n",
    "**Lewy body dementia:** In addition to more typical symptoms like memory loss, people with this form of dementia may have **movement or balance problems** like stiffness or trembling, **alertness** including daytime sleepiness confusion and staring spells. **Trouble sleeping at night or may experience visual hallucination.** \n",
    "\n",
    "**Fronto-temporal dementia:** Changes in behaviors and personalities. Patients may embarrass themselves or behave inappropriately eg. make offensive comments and neglet responsibilities at home or work and also language skills like speaking and understanding.\n",
    "\n",
    "**Mixed dementia:** More than one type of dementia. Hence, disease progession may be faster. \n",
    "\n",
    "**Reversible causes:** Reversible underlying cause such as side effect of medication, increased pressure in the brain, vitamin deficiency and thyroid hormone imbalance.\n",
    "\n"
   ]
  },
  {
   "cell_type": "markdown",
   "id": "6fa15a2b-669d-4447-9dc2-d6f8b90b20eb",
   "metadata": {},
   "source": [
    "## 6. Stages of dementia\n",
    "\n",
    "There are 7 stages of dementia. At stage 5, most people can't survive without assistance. Dementia is most commonly diagnosed at stage 3 \n",
    "\n",
    "**Stage 1:** No cognitive decline.\n",
    "\n",
    "**Stage 2:** Age-associated memory impairment. Seniors may have difficulty remembering where they put their glasses, or the names of acquaintances, but can easily pass a clinical interview.\n",
    "\n",
    "**Stage 3:** Mild cognitive impairment. Difficulty finding common destinations, poor work performance, and inability to recall words or names are signs of mild cognitive decline.\n",
    "\n",
    "**Stage 4:** Mild dementia. Seniors may struggle to remember personal history, as well as current events. While maintaining finances or travel may become difficult, people with mild dementia will generally be able to recognize familiar people and perform most activities of daily living. Withdrawal and increased anxiety are common at this stage.\n",
    "\n",
    "**Stage 5:** Moderate dementia. A patient may be unable to recall major aspects of their current lives, like a home address or grandchild’s name. They may experience disorientation with dates and times. While using the bathroom and eating are generally not a problem, other activities of daily living (ADLs) like selecting clothes, preparing meals, and grooming require assistance.\n",
    "\n",
    "**Stage 6:** Moderately severe dementia. By stage 6, seniors often can’t remember the names of spouses or children, and have little awareness of recent personal history. Cognitive assessments like counting and word recall may be difficult, and incontinence and sleep disruption are common.\n",
    "\n",
    "**Stage 7:** Severe dementia. Verbal abilities and basic motor skills are lost in the final stage of cognitive decline, as the brain becomes unable to tell the body what to do."
   ]
  },
  {
   "cell_type": "markdown",
   "id": "8a605b84-127a-4ac8-9853-89b42693aa17",
   "metadata": {},
   "source": [
    "Reference: \n",
    "\n",
    "https://www.cdc.gov/aging/dementia/index.html#:~:text=Dementia%20is%20not%20a%20specific,a%20part%20of%20normal%20aging.\n",
    "\n",
    "https://www.aplaceformom.com/caregiver-resources/articles/everything-to-know-about-dementia\n",
    "\n",
    "https://www.who.int/news-room/fact-sheets/detail/dementia\n",
    "\n",
    "https://www.nhs.uk/conditions/dementia/about/"
   ]
  }
 ],
 "metadata": {
  "kernelspec": {
   "display_name": "Python 3 (ipykernel)",
   "language": "python",
   "name": "python3"
  },
  "language_info": {
   "codemirror_mode": {
    "name": "ipython",
    "version": 3
   },
   "file_extension": ".py",
   "mimetype": "text/x-python",
   "name": "python",
   "nbconvert_exporter": "python",
   "pygments_lexer": "ipython3",
   "version": "3.8.10"
  }
 },
 "nbformat": 4,
 "nbformat_minor": 5
}
