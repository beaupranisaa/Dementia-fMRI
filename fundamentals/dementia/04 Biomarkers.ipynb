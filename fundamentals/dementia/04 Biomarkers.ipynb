{
 "cells": [
  {
   "cell_type": "markdown",
   "id": "7871ef52-0d2d-453b-8ec2-8d508fc18976",
   "metadata": {},
   "source": [
    "# 05 Biomarkers"
   ]
  },
  {
   "cell_type": "code",
   "execution_count": null,
   "id": "09d3d818-e3bf-4565-8871-70a76ac0c7f5",
   "metadata": {},
   "outputs": [],
   "source": []
  },
  {
   "cell_type": "markdown",
   "id": "aae93341-f7ed-4d0b-8776-b335f964101d",
   "metadata": {},
   "source": [
    "Reference:\n",
    "    \n",
    "https://www.nia.nih.gov/health/how-biomarkers-help-diagnose-dementia"
   ]
  }
 ],
 "metadata": {
  "kernelspec": {
   "display_name": "Python 3 (ipykernel)",
   "language": "python",
   "name": "python3"
  },
  "language_info": {
   "codemirror_mode": {
    "name": "ipython",
    "version": 3
   },
   "file_extension": ".py",
   "mimetype": "text/x-python",
   "name": "python",
   "nbconvert_exporter": "python",
   "pygments_lexer": "ipython3",
   "version": "3.8.10"
  }
 },
 "nbformat": 4,
 "nbformat_minor": 5
}
