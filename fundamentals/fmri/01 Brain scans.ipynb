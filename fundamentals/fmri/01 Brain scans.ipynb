{
 "cells": [
  {
   "cell_type": "markdown",
   "id": "268e83cc-8c78-4db7-8c9b-ace0985b3acc",
   "metadata": {},
   "source": [
    "# 01 Brain Scan (General)"
   ]
  },
  {
   "cell_type": "markdown",
   "id": "39eff35d-16f0-43f0-b5f1-4d09548182fa",
   "metadata": {},
   "source": [
    "## 1. Types of Brain Scans\n",
    "\n",
    "### 1. Computed Tomography (CT) \n",
    "\n",
    "A CT scan or CAT scan, which stands for computed tomography, can detect bleeding, swelling, and skull fractures. CT uses X-ray data and a computer to generate 3D images of structures.\n",
    "\n",
    "Brain CT scans help surgeons decide if a brain injury, stroke, or herniation (acute swelling that causes the brain to shift in the skull) requires immediate surgery. \n",
    "\n",
    "CT scans are safe for most people. However, because CT scans expose you to ionizing radiation, they may increase your lifetime cancer risk slightly. As with all tests, it’s best to weigh the risks and benefits."
   ]
  },
  {
   "cell_type": "markdown",
   "id": "86958daa-b4fe-4597-a556-59c8d83547a0",
   "metadata": {},
   "source": [
    "### 2. Magnetic Resonance Imaging (MRI) \n",
    "\n",
    "MRIs are often located in radiology centers or hospitals.\n",
    "\n",
    "MRIs work by aligning the hydrogen molecules in your cells using powerful magnets. As the molecules absorb the energy from the radiofrequency waves, they emit a signal in response.\n",
    "\n",
    "With software help, the data becomes a detailed image. Bodily structures with high water content, like the soft tissues and organs such as the brain and kidneys, create the most contrast and therefore produce better MRI images. \n",
    "\n",
    "Because MRI machines use **strong magnetic fields**, this type of medical imaging isn’t right for everyone.\n",
    "\n",
    "A major drawback of open MRIs is poor image quality. Because of its open-air design, the scanner loses some of its magnet strength"
   ]
  },
  {
   "cell_type": "markdown",
   "id": "91bd988d-46b2-49c6-8586-b3b14afc1526",
   "metadata": {},
   "source": [
    "### 3. Functional Magnetic Resonance Imaging (fMRI) \n",
    "\n",
    "Functional MRI (fMRI) measures blood flow changes while you do simple tasks inside the MRI scanner. For example, you might be told to move or speak. Since this type of MRI shows the active brain, it doesn’t compare to data from other imaging studies that focus on structural assessment."
   ]
  },
  {
   "cell_type": "markdown",
   "id": "5e795bf9-d444-4489-8f95-e05de9d0def9",
   "metadata": {},
   "source": [
    "### 4. Difussion Weighted Imaging\n",
    "\n",
    "Diffusion weighted imaging (DWI) uses MRI sequences and software to create images that map the diffusion of water molecules in the brain and other soft tissues. DWI is helpful in diagnosing vascular strokes and in the characterization (risk stratification) of tumors. "
   ]
  },
  {
   "cell_type": "markdown",
   "id": "37cae1b4-2a83-45cd-8e16-1ffa1742e719",
   "metadata": {},
   "source": [
    "### 5. MR Spectroscopy\n",
    "Magnetic resonance spectroscopy (MRS) is a non-invasive diagnostic test for measuring chemical changes in the brain that occur in the presence of tumors. It provides detailed images of the brain that help radiologists and oncologists distinguish between abscesses, cysts, and cancer."
   ]
  },
  {
   "cell_type": "markdown",
   "id": "430c3267-0cf4-42d3-a812-d911846fde98",
   "metadata": {},
   "source": [
    "### 6. PET Scan\n",
    "Positron emission tomography, or PET, is a type of nuclear medicine scan that can be used with a CT scan or an MRI to measure the metabolic activity of cells within brain tissue. It can be helpful in the early detection of cancer and neurological diseases like Alzheimer’s disease.\n",
    "\n",
    "During a PET scan, technicians inject a radiotracer agent into an IV (intravenous catheter). The radiotracer travels through your bloodstream including the area the PET is scanning.\n",
    "\n"
   ]
  },
  {
   "cell_type": "markdown",
   "id": "f3efb0a8-9424-4777-82b9-0e22a895f5d4",
   "metadata": {},
   "source": [
    "## 2. When are they used?\n",
    "\n",
    "### 1. Traumatic Head Injuries\n",
    "\n",
    "There are two types of head injuries that sometimes require a brain scan.\n",
    "\n",
    "* A closed head injury means there is trauma to the skull, but the skin and soft tissues covering it remain intact. \n",
    "* An open head injury features a visible wound.\n",
    "\n",
    "Sometimes, signs and symptoms of a head injury don’t appear until hours or even days later. Your provider may order a brain scan to look for evidence of bleeding, brain swelling, and skull fracture. \n",
    "\n",
    "A CT scan is usually the first imaging test to help diagnose a head injury. CT scans may help radiologists notice signs of bleeding, swelling, and skull fractures.\n",
    "\n",
    "MRI may help evaluate head injuries over 48 hours old. MRI is best for evaluating post-traumatic or secondary head injuries as well as evaluating cranial blood flow and may offer insight into prognosis. "
   ]
  },
  {
   "cell_type": "markdown",
   "id": "eaf72183-6f81-4e20-b2cd-ad62699d4f57",
   "metadata": {},
   "source": [
    "### 2. Stroke\n",
    "\n",
    "A stroke occurs when your brain doesn’t get enough oxygen. This can happen in a couple of different ways.\n",
    "\n",
    "During an ischemic stroke, blood flow to the brain slows due to a clot, or other obstruction. Hemorrhagic strokes happen with bleeding into the brain tissue, which happens because of high blood pressure or a ruptured or leaking aneurysm (a weak area in the vessel wall).\n",
    "\n",
    "For stroke imaging in the acute phase, when the stroke is actively happening, doctors will order either a non-contrast head CT scan or MRI to classify the stroke. However, MRI is more sensitive for spotting acute ischemic strokes, especially those presenting during the first 12 hours of onset. "
   ]
  },
  {
   "cell_type": "markdown",
   "id": "4c2f8244-12be-41e9-9992-41894de82383",
   "metadata": {},
   "source": [
    "### 3. Brain Cancer\n",
    "Brain tumors occur when abnormal cells within the brain grow unchecked. Primary brain cancer starts in the brain and rarely spreads. However, the most common type of brain cancer is secondary and occurs when cancer cells from elsewhere in the body spread. \n",
    "\n",
    "Brain scans like MRI can help differentiate between cancer and benign lesions as well as assist in pre-surgical planning. PET may be used to evaluate for recurrence after yearly intervals after successful treatment. "
   ]
  },
  {
   "cell_type": "markdown",
   "id": "efeb5f27-0c9a-47c1-8068-ef6dd93c30a9",
   "metadata": {},
   "source": [
    "### 4. Alzheimer’s Disease\n",
    "Diagnosis of Alzheimer’s disease relies upon clinical signs, symptoms, medical history, and psychological exams.\n",
    "\n",
    "Current research shows that combining neuroimaging techniques like structural MRI, functional MRI, and PET may help medical professionals diagnose diseases like Alzheimer’s and dementia earlier. "
   ]
  },
  {
   "cell_type": "markdown",
   "id": "9da5bfe3-4c27-49f7-91f6-8a31b5f895ee",
   "metadata": {},
   "source": [
    "### 5. Brain Health Screening\n",
    "Even if you are a healthy person with no neurological symptoms, you may be curious about what an MRI brain scan could tell you about your health.\n",
    "\n",
    "While every experience is different, some of the things an MRI of the brain might detect are abnormalities like lesions, cysts, tumors, previous or current bleeding, swelling, structural defects, indications of an infection or inflammation, as well as blood vessels problems like aneurysm.\n",
    "\n",
    "A brain MRI may also expose damage from a previous stroke or head injury."
   ]
  },
  {
   "cell_type": "markdown",
   "id": "aba0d96b-c5be-42ff-9439-a61191c71a1e",
   "metadata": {},
   "source": [
    "Reference:\n",
    "    \n",
    "https://ezra.com/brain-scan/"
   ]
  },
  {
   "cell_type": "code",
   "execution_count": null,
   "id": "05f6b8c2-62f4-4ea2-9566-c9ee5f82cf10",
   "metadata": {},
   "outputs": [],
   "source": []
  }
 ],
 "metadata": {
  "kernelspec": {
   "display_name": "Python 3 (ipykernel)",
   "language": "python",
   "name": "python3"
  },
  "language_info": {
   "codemirror_mode": {
    "name": "ipython",
    "version": 3
   },
   "file_extension": ".py",
   "mimetype": "text/x-python",
   "name": "python",
   "nbconvert_exporter": "python",
   "pygments_lexer": "ipython3",
   "version": "3.8.10"
  }
 },
 "nbformat": 4,
 "nbformat_minor": 5
}
